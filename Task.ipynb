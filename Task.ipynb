{
 "cells": [
  {
   "cell_type": "code",
   "execution_count": 3,
   "metadata": {},
   "outputs": [],
   "source": [
    "import pandas as pd\n",
    "import matplotlib.pyplot as plt\n",
    "import ipywidgets as widgets\n",
    "from ipywidgets import interact"
   ]
  },
  {
   "cell_type": "code",
   "execution_count": 4,
   "metadata": {},
   "outputs": [],
   "source": [
    "from collections.abc import Iterable, Iterator\n",
    "from typing import Any, List\n",
    "\n",
    "\n",
    "class MyIterator(Iterator):\n",
    "    _position: int = None\n",
    "    _reverse: bool = False\n",
    "\n",
    "    def __init__(self, collection: Iterable, reverse: bool = False) -> None:\n",
    "        self._collection = collection\n",
    "        self._reverse = reverse\n",
    "        self._position = -1 if reverse else 0\n",
    "\n",
    "    def __next__(self):\n",
    "        try:\n",
    "            value = self._collection[self._position]\n",
    "            self._position += -1 if self._reverse else 1\n",
    "        except IndexError:\n",
    "            raise StopIteration()\n",
    "\n",
    "        return value\n",
    "\n",
    "\n",
    "class MyCollection(Iterable):\n",
    "    def __init__(self, collection: Iterable = []) -> None:\n",
    "        self._collection = list(collection)\n",
    "\n",
    "    def __iter__(self) -> MyIterator:\n",
    "        return MyIterator(self._collection)\n",
    "\n",
    "    def get_reverse_iterator(self) -> MyIterator:\n",
    "        return MyIterator(self._collection, True)\n",
    "    \n",
    "    def sort_items(self):\n",
    "        self._collection.sort()\n",
    "\n",
    "    def add_item(self, item):\n",
    "        self._collection.append(item)"
   ]
  },
  {
   "cell_type": "code",
   "execution_count": 5,
   "metadata": {},
   "outputs": [],
   "source": [
    "from typing import Optional\n",
    "\n",
    "\n",
    "class SingletonMeta(type):\n",
    "    _instance = None\n",
    "\n",
    "    def __call__(self):\n",
    "        if self._instance is None:\n",
    "            self._instance = super().__call__()\n",
    "        return self._instance\n",
    "\n",
    "\n",
    "class DataFrameSingleton(metaclass=SingletonMeta):\n",
    "    def __init__(self, df=None):\n",
    "        if df is not None:\n",
    "            self.__df = df\n",
    "        \n",
    "    @property\n",
    "    def df(self):\n",
    "        return self.__df\n",
    "    \n",
    "    @df.setter\n",
    "    def df(self, df):\n",
    "        self.__df = df"
   ]
  },
  {
   "cell_type": "code",
   "execution_count": 6,
   "metadata": {},
   "outputs": [],
   "source": [
    "from abc import ABC, abstractmethod\n",
    "\n",
    "\n",
    "class Bus(ABC):\n",
    "    @abstractmethod\n",
    "    def get_df(self) -> pd.DataFrame:\n",
    "        pass\n",
    "\n",
    "\n",
    "class BusFromCsv(Bus):\n",
    "    def get_df(self) -> pd.DataFrame:\n",
    "        return pd.read_csv('bus.csv', index_col='номер маршрута')\n",
    "\n",
    "\n",
    "class BusFromJson(Bus):\n",
    "    def get_df(self) -> pd.DataFrame:\n",
    "        df = pd.read_json('bus.json')\n",
    "        df.index.name = 'номер маршрута'\n",
    "        return df\n",
    "\n",
    "\n",
    "class Train(ABC):\n",
    "    @abstractmethod\n",
    "    def get_df(self) -> pd.DataFrame:\n",
    "        pass\n",
    "\n",
    "\n",
    "class TrainFromCsv(Train):\n",
    "    def get_df(self) -> pd.DataFrame:\n",
    "        return pd.read_csv('train.csv', index_col='номер маршрута')\n",
    "\n",
    "    \n",
    "class TrainFromJson(Train):\n",
    "    def get_df(self) -> pd.DataFrame:\n",
    "        df = pd.read_json('train.json')\n",
    "        df.index.name = 'номер маршрута'\n",
    "        return df\n",
    "\n",
    "\n",
    "class AbstractFactory(ABC):\n",
    "    @abstractmethod\n",
    "    def create_bus(self) -> Bus:\n",
    "        pass\n",
    "\n",
    "    @abstractmethod\n",
    "    def create_train(self) -> Train:\n",
    "        pass\n",
    "\n",
    "\n",
    "class CsvFactory(AbstractFactory):\n",
    "    def create_bus(self) -> BusFromCsv:\n",
    "        return BusFromCsv()\n",
    "\n",
    "    def create_train(self) -> TrainFromCsv:\n",
    "        return TrainFromCsv()\n",
    "\n",
    "\n",
    "class JsonFactory(AbstractFactory):\n",
    "    def create_bus(self) -> BusFromJson:\n",
    "        return BusFromJson()\n",
    "\n",
    "    def create_train(self) -> TrainFromJson:\n",
    "        return TrainFromJson()"
   ]
  },
  {
   "cell_type": "code",
   "execution_count": 7,
   "metadata": {},
   "outputs": [
    {
     "data": {
      "application/vnd.jupyter.widget-view+json": {
       "model_id": "8e302d3f2d1a4aa2bd628a956276dd3c",
       "version_major": 2,
       "version_minor": 0
      },
      "text/plain": [
       "interactive(children=(Dropdown(description='расширение', options=('csv', 'json'), value='csv'), Dropdown(descr…"
      ]
     },
     "metadata": {},
     "output_type": "display_data"
    }
   ],
   "source": [
    "@interact\n",
    "def choose_vehicle(extension=widgets.Dropdown(description='расширение', options=['csv', 'json']),\n",
    "                   vehicle=widgets.Dropdown(description='тип транспорта', options=['автобус', 'поезд'])):\n",
    "    dfs = DataFrameSingleton()\n",
    "    \n",
    "    if extension=='csv':\n",
    "        factory = CsvFactory()\n",
    "    else:\n",
    "        factory = JsonFactory()\n",
    "    \n",
    "    if vehicle=='автобус':\n",
    "        bus = factory.create_bus()\n",
    "        dfs.df = bus.get_df()\n",
    "    else:\n",
    "        train = factory.create_train()\n",
    "        dfs.df = train.get_df()\n",
    "        \n",
    "    dfs.df['дата отправления'] = pd.to_datetime(dfs.df['дата отправления']) # date normalization\n",
    "    dfs.df['время отправления'] = dfs.df['время отправления'].astype('string')"
   ]
  },
  {
   "cell_type": "code",
   "execution_count": 8,
   "metadata": {},
   "outputs": [],
   "source": [
    "# df.to_json('train.json')"
   ]
  },
  {
   "cell_type": "code",
   "execution_count": 9,
   "metadata": {},
   "outputs": [
    {
     "data": {
      "application/vnd.jupyter.widget-view+json": {
       "model_id": "0e3f3c3fa3564385984b3722dea904c3",
       "version_major": 2,
       "version_minor": 0
      },
      "text/plain": [
       "interactive(children=(Text(value='', description='вокзал отправки'), Text(value='', description='вокзал прибыт…"
      ]
     },
     "metadata": {},
     "output_type": "display_data"
    },
    {
     "data": {
      "image/png": "[encoded data removed]",
      "text/plain": [
       "<Figure size 432x288 with 1 Axes>"
      ]
     },
     "metadata": {},
     "output_type": "display_data"
    },
    {
     "data": {
      "image/png": "[encoded data removed]",
      "text/plain": [
       "<Figure size 432x288 with 1 Axes>"
      ]
     },
     "metadata": {
      "needs_background": "light"
     },
     "output_type": "display_data"
    }
   ],
   "source": [
    "res_df = None\n",
    "\n",
    "@interact\n",
    "def choose_destination(\n",
    "        leave=widgets.Text(description='вокзал отправки'), \n",
    "        arrival=widgets.Text(description='вокзал прибытия'),\n",
    "        leave_date=widgets.DatePicker(description='дата отправления'),\n",
    "        weekend_setting=widgets.Dropdown(description='отображать', options=['все', 'только выходные', 'только будние']),\n",
    "        time_start=widgets.IntSlider(description='начало интервала времени', min=0, max=23),\n",
    "        time_end=widgets.IntSlider(description='конец интервала времени', min=1, max=24, value=24),\n",
    "        aproximation_amount=widgets.IntSlider(description='назад количество ближайших отображений по дате',\n",
    "                                              min=1, max=10)\n",
    "    ):\n",
    "    global res_df\n",
    "    res_df = DataFrameSingleton().df.copy()\n",
    "    \n",
    "    res_df['hour'] = pd.to_numeric(res_df['время отправления'].str.split(n=1, pat=':').str[0])\n",
    "    \n",
    "    res_df = res_df[(res_df['hour'] >= time_start) & (res_df['hour'] <= time_end)]\n",
    "    res_df = res_df.drop(columns='hour')\n",
    "    \n",
    "    if weekend_setting=='только выходные':\n",
    "        res_df = res_df[res_df['дата отправления'].dt.dayofweek > 4]\n",
    "        \n",
    "    if weekend_setting=='только будние':\n",
    "        res_df = res_df[res_df['дата отправления'].dt.dayofweek < 5]\n",
    "    \n",
    "    if leave:\n",
    "        res_df = res_df[res_df['вокзал отправления'].str.startswith(leave)]\n",
    "                                          \n",
    "    if arrival:\n",
    "        res_df = res_df[res_df['вокзал прибытия'].str.startswith(arrival)]\n",
    "    \n",
    "    if leave_date:\n",
    "        res_df = res_df[res_df['дата отправления'].dt.date<leave_date].sort_values(['дата отправления', 'время отправления']).tail(aproximation_amount)\n",
    "    \n",
    "    return res_df\n",
    "\n",
    "\n",
    "res_df.groupby('вокзал прибытия').size().plot(kind='pie', title='отображение вокзалов')\n",
    "plt.axis(False)\n",
    "plt.show()\n",
    "\n",
    "sorted_df = res_df.sort_values(['дата отправления', 'время отправления'])\n",
    "\n",
    "sorted_df['стоимость билетов'].plot(title='изменение цен на билеты', rot=70)\n",
    "labels = sorted_df['дата отправления'].dt.strftime('%d:%m') + ' ' + sorted_df['время отправления']\n",
    "plt.xticks(range(1, 11), labels=labels)\n",
    "plt.show()"
   ]
  },
  {
   "cell_type": "code",
   "execution_count": 10,
   "metadata": {},
   "outputs": [
    {
     "ename": "NameError",
     "evalue": "name 'df' is not defined",
     "output_type": "error",
     "traceback": [
      "\u001b[0;31m---------------------------------------------------------------------------\u001b[0m",
      "\u001b[0;31mNameError\u001b[0m                                 Traceback (most recent call last)",
      "\u001b[0;32m<ipython-input-10-cd034fc9bc4e>\u001b[0m in \u001b[0;36m<module>\u001b[0;34m\u001b[0m\n\u001b[0;32m----> 1\u001b[0;31m \u001b[0mmy_list\u001b[0m \u001b[0;34m=\u001b[0m \u001b[0mMyCollection\u001b[0m\u001b[0;34m(\u001b[0m\u001b[0mdf\u001b[0m\u001b[0;34m[\u001b[0m\u001b[0;34m'стоимость билетов'\u001b[0m\u001b[0;34m]\u001b[0m\u001b[0;34m)\u001b[0m\u001b[0;34m\u001b[0m\u001b[0;34m\u001b[0m\u001b[0m\n\u001b[0m\u001b[1;32m      2\u001b[0m \u001b[0mmy_list\u001b[0m\u001b[0;34m.\u001b[0m\u001b[0msort_items\u001b[0m\u001b[0;34m(\u001b[0m\u001b[0;34m)\u001b[0m\u001b[0;34m\u001b[0m\u001b[0;34m\u001b[0m\u001b[0m\n\u001b[1;32m      3\u001b[0m \u001b[0;34m\u001b[0m\u001b[0m\n\u001b[1;32m      4\u001b[0m \u001b[0;32mfor\u001b[0m \u001b[0meach\u001b[0m \u001b[0;32min\u001b[0m \u001b[0mmy_list\u001b[0m\u001b[0;34m:\u001b[0m\u001b[0;34m\u001b[0m\u001b[0;34m\u001b[0m\u001b[0m\n\u001b[1;32m      5\u001b[0m     \u001b[0mprint\u001b[0m\u001b[0;34m(\u001b[0m\u001b[0meach\u001b[0m\u001b[0;34m)\u001b[0m\u001b[0;34m\u001b[0m\u001b[0;34m\u001b[0m\u001b[0m\n",
      "\u001b[0;31mNameError\u001b[0m: name 'df' is not defined"
     ]
    }
   ],
   "source": [
    "my_list = MyCollection(df['стоимость билетов'])\n",
    "my_list.sort_items()\n",
    "\n",
    "for each in my_list:\n",
    "    print(each)"
   ]
  }
 ],
 "metadata": {
  "kernelspec": {
   "display_name": "Python 3",
   "language": "python",
   "name": "python3"
  },
  "language_info": {
   "codemirror_mode": {
    "name": "ipython",
    "version": 3
   },
   "file_extension": ".py",
   "mimetype": "text/x-python",
   "name": "python",
   "nbconvert_exporter": "python",
   "pygments_lexer": "ipython3",
   "version": "3.8.0"
  }
 },
 "nbformat": 4,
 "nbformat_minor": 4
}
