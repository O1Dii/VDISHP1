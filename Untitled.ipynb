{
 "cells": [
  {
   "cell_type": "code",
   "execution_count": 16,
   "metadata": {},
   "outputs": [],
   "source": [
    "import pandas as pd\n",
    "import matplotlib.pyplot as plt\n",
    "import ipywidgets as widgets\n",
    "from ipywidgets import interact"
   ]
  },
  {
   "cell_type": "code",
   "execution_count": 58,
   "metadata": {},
   "outputs": [],
   "source": [
    "df = pd.read_csv('initial_data.csv', index_col='номер маршрута')"
   ]
  },
  {
   "cell_type": "code",
   "execution_count": 112,
   "metadata": {},
   "outputs": [],
   "source": [
    "df['дата отправления'] = pd.to_datetime(df['дата отправления']) # date normalization\n",
    "df['время отправления'] = df['время отправления'].astype('string')"
   ]
  },
  {
   "cell_type": "code",
   "execution_count": 119,
   "metadata": {},
   "outputs": [
    {
     "data": {
      "application/vnd.jupyter.widget-view+json": {
       "model_id": "d04679b2f40d42279e4db18fdb229f00",
       "version_major": 2,
       "version_minor": 0
      },
      "text/plain": [
       "interactive(children=(Text(value='', description='вокзал отправки'), Text(value='', description='вокзал прибыт…"
      ]
     },
     "metadata": {},
     "output_type": "display_data"
    }
   ],
   "source": [
    "@interact\n",
    "def choose_destination(leave=widgets.Text(description='вокзал отправки'), \n",
    "                       arrival=widgets.Text(description='вокзал прибытия'),\n",
    "                       leave_date=widgets.DatePicker(description='дата отправления'),\n",
    "                       time_start=widgets.IntSlider(description='начало интервала времени', min=0, max=23),\n",
    "                       time_end=widgets.IntSlider(description='конец интервала времени', min=1, max=24, value=24),\n",
    "                       aproximation_amount=widgets.IntSlider(description='назад количество ближайших отображений по дате',\n",
    "                                                             min=1, max=10)):\n",
    "    res_df = df.copy()\n",
    "    \n",
    "    res_df['hour'] = pd.to_numeric(res_df['время отправления'].str.split(n=1, pat=':').str[0])\n",
    "    \n",
    "    res_df = res_df[(res_df['hour'] >= time_start) & (res_df['hour'] <= time_end)]\n",
    "    res_df = res_df.drop(columns='hour')\n",
    "    \n",
    "    if leave:\n",
    "        res_df = res_df[(res_df['вокзал отправления'].str.startswith(leave))]\n",
    "                                          \n",
    "    if arrival:\n",
    "        res_df = res_df[(res_df['вокзал прибытия'].str.startswith(arrival))]\n",
    "    \n",
    "    if leave_date:\n",
    "        res_df = res_df[res_df['дата отправления'].dt.date<leave_date].sort_values(['дата отправления', 'время отправления']).tail(aproximation_amount)\n",
    "    \n",
    "    res_df.groupby('вокзал прибытия').size().plot(kind='pie', title='отображение вокзалов')\n",
    "    plt.show()\n",
    "    \n",
    "    res_df.sort_values(['дата отправления', 'время отправления'])['стоимость билетов'].plot(title='изменение цен на билеты')\n",
    "    plt.show()\n",
    "    \n",
    "    return res_df"
   ]
  },
  {
   "cell_type": "code",
   "execution_count": null,
   "metadata": {},
   "outputs": [],
   "source": []
  },
  {
   "cell_type": "code",
   "execution_count": null,
   "metadata": {},
   "outputs": [],
   "source": []
  }
 ],
 "metadata": {
  "kernelspec": {
   "display_name": "Python 3",
   "language": "python",
   "name": "python3"
  },
  "language_info": {
   "codemirror_mode": {
    "name": "ipython",
    "version": 3
   },
   "file_extension": ".py",
   "mimetype": "text/x-python",
   "name": "python",
   "nbconvert_exporter": "python",
   "pygments_lexer": "ipython3",
   "version": "3.8.1"
  }
 },
 "nbformat": 4,
 "nbformat_minor": 4
}
